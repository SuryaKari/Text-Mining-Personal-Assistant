{
 "cells": [
  {
   "cell_type": "markdown",
   "metadata": {},
   "source": [
    "# Trika : The AI Personal Assistant"
   ]
  },
  {
   "cell_type": "markdown",
   "metadata": {},
   "source": [
    "#### What can this do this so far? (Examples)\n",
    "* <b>The chatbot is always on. So it is always listening</b>\n",
    "    * what time is it?\n",
    "    * what time is it now?\n",
    "    * what time is it in Sydney?\n",
    "    * what time is it in Sydney,NS?\n",
    "    * what is a pigeon? \n",
    "        * Pull information from Wikipedia\n",
    "        * Cannot take double words yet (Ex: what is new delhi?)\n",
    "    * Can you please add groceries to my to do list\n",
    "    * add groceries to my to do list\n",
    "    * what is on my to do list\n",
    "    * show me what is on my to do list\n",
    "    * is groceries on my to do list?\n",
    "        * Yes\n",
    "        * No, do you want me to add it?\n",
    "    * Remove groceries from my to do list\n",
    "    * delete groceries from my to do list\n",
    "    "
   ]
  },
  {
   "cell_type": "markdown",
   "metadata": {},
   "source": [
    "#### Import Libraries"
   ]
  },
  {
   "cell_type": "code",
   "execution_count": null,
   "metadata": {
    "collapsed": false,
    "scrolled": false
   },
   "outputs": [],
   "source": [
    "!pip install bs4\n",
    "!pip install geopy\n",
    "!pip install tzwhere"
   ]
  },
  {
   "cell_type": "code",
   "execution_count": 1,
   "metadata": {
    "collapsed": false
   },
   "outputs": [],
   "source": [
    "from bs4 import BeautifulSoup\n",
    "import urllib2\n",
    "import time\n",
    "from datetime import datetime\n",
    "from geopy import geocoders\n",
    "from tzwhere import tzwhere\n",
    "from pytz import timezone"
   ]
  },
  {
   "cell_type": "code",
   "execution_count": 2,
   "metadata": {
    "collapsed": false
   },
   "outputs": [],
   "source": [
    "to_do_list = []\n",
    "\n",
    "def alwayson():\n",
    "    for i in range(10,100):\n",
    "        question = raw_input()\n",
    "        trika(question)\n",
    "    \n",
    "def trika(question):\n",
    "    Q_Type = ['time']\n",
    "    Q_Type_List = ['list?','list']\n",
    "    Q_Type_What = ['What','what']\n",
    "    Q_Type_Isthere = ['is','IS','there','THERE']\n",
    "    Q_Type_Remove = ['remove','Remove','Delete','delete']\n",
    "    list1 = []\n",
    "    search = \"\"\n",
    "    list1 = question.split(\" \")\n",
    "    is_it_a_time_Q = [i for i in list1 if i in Q_Type]\n",
    "    is_it_a_list_Q = [i for i in list1 if i in Q_Type_List]\n",
    "    is_it_a_what_Q = [i for i in list1 if i in Q_Type_What]\n",
    "    is_it_a_isthere_Q = [i for i in list1 if i in Q_Type_Isthere]\n",
    "    is_it_a_remove_Q = [i for i in list1 if i in Q_Type_Remove]\n",
    "    #print len(is_it_a_what_Q)\n",
    "    \n",
    "    # ***** List of things Trika can do? ***\n",
    "    # ***** Respond to question (Trika, What can you do?)\n",
    "    \n",
    "    #******************************\n",
    "    #****** Knowledge Q's ********* (Lots to do here)\n",
    "\n",
    "    if len(is_it_a_time_Q) == 0 and len(is_it_a_list_Q) == 0:\n",
    "        for i in range(len(list1)):\n",
    "            if i == (len(list1)-1):\n",
    "                search =  str(list1[i][:-1])\n",
    "        link = \"https://en.wikipedia.org/wiki/\" + search\n",
    "        #print link\n",
    "        response = urllib2.urlopen(link)\n",
    "        html_doc = response.read()\n",
    "        soup = BeautifulSoup(html_doc, 'html.parser')\n",
    "        print soup.p.text\n",
    "        return \"\"\n",
    "\n",
    "\n",
    "    #******************************\n",
    "    #****** Time Q's **************\n",
    "\n",
    "    if len(is_it_a_time_Q) <> 0:\n",
    "        for i in range(len(list1)):\n",
    "            if i == (len(list1)-1):\n",
    "                search =  str(list1[i][:-1])\n",
    "\n",
    "    # if the question is \"what time is it or what time is it now?\"            \n",
    "        if search == 'it' or search == 'now': \n",
    "            time = datetime.now()\n",
    "            conv_time = str(time)[0:19]\n",
    "            now_hour = datetime.strptime(conv_time,'%Y-%m-%d %H:%M:%S').strftime('%I')\n",
    "            now_minute = datetime.strptime(conv_time,'%Y-%m-%d %H:%M:%S').strftime('%M')\n",
    "            now_am_pm = datetime.strptime(conv_time,'%Y-%m-%d %H:%M:%S').strftime('%p')\n",
    "            print \"[Trika]: \" + \"It is \"+ now_hour + \":\" + now_minute + \" \" + now_am_pm + \" now\"\n",
    "            return \"\"\n",
    "\n",
    "        # If the question is what time is it somewhere else?\n",
    "\n",
    "        if search <> 'it':\n",
    "            locationList =[]\n",
    "            g = geocoders.GoogleV3()\n",
    "            #tz = tzwhere.tzwhere()\n",
    "            locationList.append(search)\n",
    "            for location in locationList:\n",
    "                place, (lat, lng) = g.geocode(location)\n",
    "                tz = str(g.timezone((lat, lng)))\n",
    "                time = timezone(tz)\n",
    "                conv_time1 = str(datetime.now(time))[0:10]\n",
    "                now_dow = datetime.strptime(conv_time1,'%Y-%m-%d').strftime('%A')\n",
    "                now_month = datetime.strptime(conv_time1,'%Y-%m-%d').strftime('%B')\n",
    "                now_day = datetime.strptime(conv_time1,'%Y-%m-%d').strftime('%d')\n",
    "                now_year = datetime.strptime(conv_time1,'%Y-%m-%d').strftime('%Y')\n",
    "\n",
    "                conv_time = str(datetime.now(time))[0:19]\n",
    "                now_hour = datetime.strptime(conv_time,'%Y-%m-%d %H:%M:%S').strftime('%I')\n",
    "                now_minute = datetime.strptime(conv_time,'%Y-%m-%d %H:%M:%S').strftime('%M')\n",
    "                now_am_pm = datetime.strptime(conv_time,'%Y-%m-%d %H:%M:%S').strftime('%p')\n",
    "\n",
    "                print \"[Trika]: \" +  \"It is \"+ now_hour + \":\" + now_minute + \" \" + now_am_pm + \" on \"+now_dow + \", \" + now_month + \" \" + now_day + \",\" + now_year + \" in \" + search\n",
    "                return \"\"\n",
    "        \n",
    "    #******************************\n",
    "    #****** To do list ************\n",
    "    \n",
    "    \n",
    "    if len(is_it_a_list_Q) <> 0:\n",
    "        # find the position of \"Add\"\n",
    "        # Add Event\n",
    "        if len(is_it_a_what_Q) == 0 and len(is_it_a_isthere_Q) == 0 and len(is_it_a_remove_Q) == 0:\n",
    "            list2 = [x.upper() for x in list1]\n",
    "            add_pos = [i for i, s in enumerate(list2) if 'ADD' in s]\n",
    "            len_list2 = len(list2)\n",
    "            to_do_list.append(str(list2[add_pos[0]:len_list2-5][1]))\n",
    "            print \"[Trika]: \" + list2[add_pos[0]:len_list2-5][1] + \" has been added to your list\"\n",
    "            return \"\"\n",
    "\n",
    "        # Read Event\n",
    "        if len(is_it_a_what_Q) <> 0:\n",
    "            print \"[Trika]: \" + \"Here is everything on your list of things to do...\"\n",
    "            print to_do_list\n",
    "            return \"\"\n",
    "        \n",
    "        # Is it there Event\n",
    "        if len(is_it_a_isthere_Q) <> 0:\n",
    "            list2 = [x.upper() for x in list1]          \n",
    "            if list2[1] in to_do_list:\n",
    "                print \"[Trika]: \" + \"Yes, \" + list2[1] +\" is on your list already\"\n",
    "            else:\n",
    "                print \"[Trika]: \" + \"No, \" + list2[1] +\" is not on your list, do you want me to do add it?\"\n",
    "                yes_no = raw_input()\n",
    "                yes_no = yes_no.split(\" \")\n",
    "                if 'NO' == yes_no[0].upper():\n",
    "                    print \"[Trika]: \" + \"Allright, I will not add it\"\n",
    "                if 'YES' == yes_no[0].upper():\n",
    "                    to_do_list.append(list2[1])\n",
    "                    print \"[Trika]: Ok, \" + list2[1] + \" is added to the list\"\n",
    "            return \"\"\n",
    "        \n",
    "        # Remove Event\n",
    "        if len(is_it_a_remove_Q) <> 0:\n",
    "            list2 = [x.upper() for x in list1]  \n",
    "            #to_do_list.remove([x for x in to_do_list if x in list2[1]])\n",
    "            a = [x for x in to_do_list if x != list2[1]]\n",
    "            to_do_list[:] = []\n",
    "            for i in range(len(a)):\n",
    "                to_do_list.append(a[i])\n",
    "            print \"[Trika]: \" + \"Removed,here is your new list (Top 10)\"\n",
    "            print to_do_list\n",
    "            return \"\"\n",
    "        \n",
    "        \n",
    "        \n",
    "    \n",
    "                "
   ]
  },
  {
   "cell_type": "code",
   "execution_count": null,
   "metadata": {
    "collapsed": false,
    "scrolled": false
   },
   "outputs": [],
   "source": [
    "alwayson()"
   ]
  },
  {
   "cell_type": "code",
   "execution_count": null,
   "metadata": {
    "collapsed": true
   },
   "outputs": [],
   "source": []
  }
 ],
 "metadata": {
  "kernelspec": {
   "display_name": "Python 2",
   "language": "python",
   "name": "python2"
  },
  "language_info": {
   "codemirror_mode": {
    "name": "ipython",
    "version": 2
   },
   "file_extension": ".py",
   "mimetype": "text/x-python",
   "name": "python",
   "nbconvert_exporter": "python",
   "pygments_lexer": "ipython2",
   "version": "2.7.12"
  },
  "widgets": {
   "state": {},
   "version": "1.1.2"
  }
 },
 "nbformat": 4,
 "nbformat_minor": 0
}
